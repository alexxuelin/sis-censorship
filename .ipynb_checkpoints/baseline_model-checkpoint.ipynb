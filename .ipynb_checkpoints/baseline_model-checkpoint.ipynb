{
 "cells": [
  {
   "cell_type": "code",
   "execution_count": 2,
   "metadata": {
    "collapsed": true
   },
   "outputs": [],
   "source": [
    "import numpy as np\n",
    "from scipy.integrate import odeint\n",
    "import matplotlib.pyplot as plt\n",
    "%matplotlib inline"
   ]
  },
  {
   "cell_type": "markdown",
   "metadata": {},
   "source": [
    "# Deterministic Model"
   ]
  },
  {
   "cell_type": "code",
   "execution_count": 6,
   "metadata": {
    "collapsed": false
   },
   "outputs": [],
   "source": [
    "# Initial Conditions\n",
    "N = 1000\n",
    "I0, R0 = 1, 0\n",
    "S0 = N - I0 - R0\n",
    "# Contact rate = alpha; mean recovery rate = beta, (in 1/days)\n",
    "alpha, beta = 0.2, 1./10 \n",
    "# A grid of time points (in days)\n",
    "t = np.linspace(0, 160, 160)\n",
    "\n",
    "# The SIR model differential equations.\n",
    "def deriv(y, t, N, alpha, beta):\n",
    "    S, I, R = y\n",
    "    dSdt = -alpha * S * I / N\n",
    "    dIdt = alpha * S * I / N - beta * I\n",
    "    dRdt = beta * I\n",
    "    return dSdt, dIdt, dRdt\n",
    "\n",
    "# Initial conditions vector\n",
    "y0 = S0, I0, R0\n",
    "# Integrate the SIR equations over the time grid, t.\n",
    "ret = odeint(deriv, y0, t, args=(N, alpha, beta))\n",
    "S, I, R = ret.T"
   ]
  },
  {
   "cell_type": "code",
   "execution_count": 9,
   "metadata": {
    "collapsed": false
   },
   "outputs": [
    {
     "data": {
      "image/png": "[encoded data removed]",
      "text/plain": [
       "<matplotlib.figure.Figure at 0x1148d07d0>"
      ]
     },
     "metadata": {},
     "output_type": "display_data"
    }
   ],
   "source": [
    "# Plot the data on three separate curves for S(t), I(t) and R(t)\n",
    "fig = plt.figure(facecolor='w')\n",
    "ax = fig.add_subplot(111, axis_bgcolor='#dddddd', axisbelow=True)\n",
    "ax.plot(t, S/1000, 'b', alpha=0.5, lw=2, label='Susceptible')\n",
    "ax.plot(t, I/1000, 'r', alpha=0.5, lw=2, label='Infected')\n",
    "ax.plot(t, R/1000, 'g', alpha=0.5, lw=2, label='Recovered with immunity')\n",
    "ax.set_xlabel('Time /days')\n",
    "ax.set_ylabel('Number (Normalized by 1000)')\n",
    "ax.set_title('Baseline Model')\n",
    "ax.set_ylim(0,1.2)\n",
    "ax.yaxis.set_tick_params(length=0)\n",
    "ax.xaxis.set_tick_params(length=0)\n",
    "ax.grid(b=True, which='major', c='w', lw=2, ls='-')\n",
    "legend = ax.legend()\n",
    "legend.get_frame().set_alpha(0.5)\n",
    "for spine in ('top', 'right', 'bottom', 'left'):\n",
    "    ax.spines[spine].set_visible(False)\n",
    "plt.show()"
   ]
  },
  {
   "cell_type": "code",
   "execution_count": 10,
   "metadata": {
    "collapsed": false
   },
   "outputs": [
    {
     "ename": "IndentationError",
     "evalue": "unexpected indent (<ipython-input-10-cdc3a92e3208>, line 22)",
     "output_type": "error",
     "traceback": [
      "\u001b[0;36m  File \u001b[0;32m\"<ipython-input-10-cdc3a92e3208>\"\u001b[0;36m, line \u001b[0;32m22\u001b[0m\n\u001b[0;31m    V = INP\u001b[0m\n\u001b[0m    ^\u001b[0m\n\u001b[0;31mIndentationError\u001b[0m\u001b[0;31m:\u001b[0m unexpected indent\n"
     ]
    }
   ],
   "source": [
    "import scipy.integrate as spi\n",
    "import numpy as np\n",
    "import pylab as pl\n",
    "\n",
    "\n",
    "beta=1.0;\n",
    "noise=10;\n",
    "gamma=1/10.0;\n",
    "mu=1/(50*365.0);\n",
    "X0=1e5;\n",
    "Y0=500;\n",
    "N0=1e6;\n",
    "Step=1.0;\n",
    "ND=MaxTime=5*365.0;\n",
    "TS=1.0\n",
    "\n",
    "INPUT0=np.hstack((X0,Y0))\n",
    "\n",
    "def diff_eqs(INP,t):  \n",
    "    '''The main set of equations'''\n",
    "    Y=np.zeros((2))\n",
    "    V = INP     \n",
    "    Y[0] = mu * N0 - beta*V[0]*V[1]/N0 - Noise - mu*V[1]\n",
    "    Y[1] = beta*V[0]*V[1]/N0 + Noise -  mu*V[1] - gamma*V[1]\n",
    "    return Y   # For odeint\n",
    "\n",
    "T=np.zeros((np.ceil(ND/Step),1))\n",
    "RES=np.zeros((np.ceil(ND/Step),2))\n",
    "INPUT=INPUT0\n",
    "t=0\n",
    "loop=0\n",
    "\n",
    "while t<ND and INPUT[0]>0 and INPUT[1]>0:\n",
    "    t_start = 0.0; t_end = t_start+Step; t_inc = TS\n",
    "    t_range = np.arange(t_start, t_end+t_inc, t_inc)\n",
    "    sqrtStep=np.sqrt(Step)\n",
    "    Noise=noise* np.random.normal(size=1)/sqrtStep\n",
    "    PRES = spi.odeint(diff_eqs,INPUT,t_range)\n",
    "    T[loop]=t=t+Step\n",
    "    INPUT=PRES[-1]\n",
    "    RES[loop]=PRES[-1]\n",
    "    loop += 1\n",
    "\n",
    "print(RES)\n",
    "\n",
    "### plotting\n",
    "pl.subplot(211)\n",
    "pl.plot(T/365., RES[:,0], '.-g')\n",
    "pl.xlabel('Time (Years)')\n",
    "pl.ylabel('Susceptibles')\n",
    "pl.subplot(212)\n",
    "pl.plot(T/365., RES[:,1], '.-r')\n",
    "pl.ylabel('Infected')\n",
    "pl.xlabel('Time (Years)')\n",
    "\n",
    "pl.show()"
   ]
  },
  {
   "cell_type": "code",
   "execution_count": null,
   "metadata": {
    "collapsed": true
   },
   "outputs": [],
   "source": []
  }
 ],
 "metadata": {
  "kernelspec": {
   "display_name": "Python [Root]",
   "language": "python",
   "name": "Python [Root]"
  },
  "language_info": {
   "codemirror_mode": {
    "name": "ipython",
    "version": 2
   },
   "file_extension": ".py",
   "mimetype": "text/x-python",
   "name": "python",
   "nbconvert_exporter": "python",
   "pygments_lexer": "ipython2",
   "version": "2.7.12"
  }
 },
 "nbformat": 4,
 "nbformat_minor": 2
}
